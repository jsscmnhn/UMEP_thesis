{
 "cells": [
  {
   "cell_type": "code",
   "id": "initial_id",
   "metadata": {
    "collapsed": true,
    "ExecuteTime": {
     "end_time": "2025-06-08T15:40:38.855977Z",
     "start_time": "2025-06-08T15:40:38.817460Z"
    }
   },
   "source": [
    "import pandas as pd\n",
    "\n",
    "# Load the tree data\n",
    "df = pd.read_csv(\"../../datasets/OBARD_filtered.csv\")\n",
    "\n",
    "# Define valid life stages\n",
    "valid_life_stages = ['young', 'early_mature', 'semi_mature', 'mature', 'late_mature']\n",
    "\n",
    "# Filter valid life stages\n",
    "df = df[df['life_stage'].isin(valid_life_stages)]\n",
    "\n",
    "# Convert columns to numeric\n",
    "df['height_m'] = pd.to_numeric(df['height_m'], errors='coerce')\n",
    "df['crown_radius_minimum_bounding_circle'] = pd.to_numeric(\n",
    "    df['crown_radius_minimum_bounding_circle'], errors='coerce'\n",
    ")\n",
    "\n",
    "# Drop rows with missing values in required columns\n",
    "df = df.dropna(subset=['height_m', 'crown_radius_minimum_bounding_circle', 'latin_name_clean'])\n",
    "\n",
    "# Group by life_stage and latin_name_clean\n",
    "summary = df.groupby(['life_stage', 'latin_name_clean']).agg({\n",
    "    'height_m': 'mean',\n",
    "    'crown_radius_minimum_bounding_circle': 'mean'\n",
    "}).reset_index()\n",
    "\n",
    "# Round results to 1 decimal\n",
    "summary['average_height_m'] = summary['height_m'].round(1)\n",
    "summary['minimum_crown_radius_m'] = summary['crown_radius_minimum_bounding_circle'].round(1)\n",
    "\n",
    "# Drop intermediate columns\n",
    "summary = summary.drop(columns=['height_m', 'crown_radius_minimum_bounding_circle'])\n",
    "\n",
    "# Save to CSV\n",
    "summary.to_csv(\"life_stage_tree_summary.csv\", index=False)\n",
    "\n",
    "print(\"Saved life_stage_tree_summary.csv\")"
   ],
   "outputs": [
    {
     "name": "stdout",
     "output_type": "stream",
     "text": [
      "Saved life_stage_tree_summary.csv\n"
     ]
    }
   ],
   "execution_count": 8
  },
  {
   "metadata": {
    "ExecuteTime": {
     "end_time": "2025-06-08T15:50:00.181051Z",
     "start_time": "2025-06-08T15:50:00.166893Z"
    }
   },
   "cell_type": "code",
   "source": [
    "import pandas as pd\n",
    "import json\n",
    "\n",
    "# Load the CSV\n",
    "df = pd.read_csv(\"life_stage_tree_summary.csv\")\n",
    "\n",
    "# Define crown height percentage (e.g. 70%)\n",
    "crown_percentage = 0.3\n",
    "\n",
    "# Build a flat list of entries\n",
    "entries = []\n",
    "\n",
    "for _, row in df.iterrows():\n",
    "    tree_ht = round(row['average_height_m'], 1)\n",
    "    crown_dia = round(2 * row['minimum_crown_radius_m'], 1)\n",
    "    crown_ht = round(crown_percentage * tree_ht, 1)\n",
    "\n",
    "    entry = {\n",
    "        \"latin name\": row['latin_name_clean'],\n",
    "        \"age\": row['life_stage'],\n",
    "        \"crown dia\": crown_dia,\n",
    "        \"tree ht\": tree_ht,\n",
    "        \"trunk ht\": crown_ht\n",
    "    }\n",
    "\n",
    "    entries.append(entry)\n",
    "\n",
    "# Save to JSON\n",
    "with open(\"obard_trees.json\", \"w\") as f:\n",
    "    json.dump(entries, f, indent=2)\n",
    "\n",
    "print(\"Saved tree_life_stage_flat.json\")"
   ],
   "id": "30398b2ad7fd70ce",
   "outputs": [
    {
     "name": "stdout",
     "output_type": "stream",
     "text": [
      "Saved tree_life_stage_flat.json\n"
     ]
    }
   ],
   "execution_count": 10
  }
 ],
 "metadata": {
  "kernelspec": {
   "display_name": "Python 3",
   "language": "python",
   "name": "python3"
  },
  "language_info": {
   "codemirror_mode": {
    "name": "ipython",
    "version": 2
   },
   "file_extension": ".py",
   "mimetype": "text/x-python",
   "name": "python",
   "nbconvert_exporter": "python",
   "pygments_lexer": "ipython2",
   "version": "2.7.6"
  }
 },
 "nbformat": 4,
 "nbformat_minor": 5
}
